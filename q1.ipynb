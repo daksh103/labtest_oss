{
 "cells": [
  {
   "cell_type": "code",
   "execution_count": null,
   "metadata": {},
   "outputs": [],
   "source": [
    "print(\"hi\")"
   ]
  },
  {
   "cell_type": "code",
   "execution_count": 1,
   "metadata": {
    "scrolled": true
   },
   "outputs": [
    {
     "name": "stdout",
     "output_type": "stream",
     "text": [
      "helo\n"
     ]
    }
   ],
   "source": [
    "print(\"helo\")"
   ]
  },
  {
   "cell_type": "code",
   "execution_count": 12,
   "metadata": {},
   "outputs": [
    {
     "name": "stdout",
     "output_type": "stream",
     "text": [
      "enter the string :: DAKSHqwbtyOPxnm\n",
      "lower:: {'b', 'm', 'q', 'y', 'w', 'n', 't', 'x'}\n",
      "upper: {'D', 'S', 'H', 'A', 'K', 'O', 'P'}\n"
     ]
    }
   ],
   "source": [
    "m='qwertyuiopasdfghjklzxcvbnm'\n",
    "\n",
    "u=[]\n",
    "l=[]\n",
    "\n",
    "uc=[]\n",
    "lc=[]\n",
    "for i in m:\n",
    "    u.append(i.upper())\n",
    "    \n",
    "    l.append(i.lower())\n",
    "\n",
    "s=input(\"enter the string :: \")\n",
    "\n",
    "\n",
    "for i in s:\n",
    "    if i in l:\n",
    "        (lc.append(i))\n",
    "    elif (i in u):\n",
    "        (uc.append(i))\n",
    "        \n",
    "#print(lc)\n",
    "#print(uc)\n",
    "\n",
    "\n",
    "lc=set(lc)\n",
    "uc=set(uc)\n",
    "print(\"lower::\",lc)\n",
    "print(\"upper:\",uc)"
   ]
  }
 ],
 "metadata": {
  "kernelspec": {
   "display_name": "Python 3",
   "language": "python",
   "name": "python3"
  },
  "language_info": {
   "codemirror_mode": {
    "name": "ipython",
    "version": 3
   },
   "file_extension": ".py",
   "mimetype": "text/x-python",
   "name": "python",
   "nbconvert_exporter": "python",
   "pygments_lexer": "ipython3",
   "version": "3.7.3"
  }
 },
 "nbformat": 4,
 "nbformat_minor": 2
}
