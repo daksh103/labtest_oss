{
 "cells": [
  {
   "cell_type": "code",
   "execution_count": 1,
   "metadata": {},
   "outputs": [
    {
     "name": "stdout",
     "output_type": "stream",
     "text": [
      "hello\n"
     ]
    }
   ],
   "source": [
    "#q2\n",
    "print(\"hello\")"
   ]
  },
  {
   "cell_type": "code",
   "execution_count": 26,
   "metadata": {},
   "outputs": [
    {
     "name": "stdout",
     "output_type": "stream",
     "text": [
      "enter the string::  can acn ccan can\n",
      "c 5\n",
      "can 2\n"
     ]
    }
   ],
   "source": [
    "s=input(\"enter the string::  \")\n",
    "l=[]\n",
    "m=-1\n",
    "for i in s:\n",
    "    l.append(i)\n",
    "\n",
    "    \n",
    "for i in l:\n",
    "   \n",
    "    if (l.count(i)>m):\n",
    "      \n",
    "        \n",
    "        m=l.count(i)\n",
    "        v=i\n",
    "        \n",
    "        \n",
    "        \n",
    "        \n",
    "print(v,m)\n",
    "    \n",
    "    \n",
    "l=[]\n",
    "l=s.split(\" \")\n",
    "m=-1\n",
    "#print(l)\n",
    "\n",
    " \n",
    "for i in l:\n",
    "    if (l.count(i)>m):\n",
    "        m=l.count(i)\n",
    "        w=i\n",
    "        \n",
    "print(w,m)\n",
    "    "
   ]
  },
  {
   "cell_type": "code",
   "execution_count": null,
   "metadata": {},
   "outputs": [],
   "source": []
  },
  {
   "cell_type": "code",
   "execution_count": null,
   "metadata": {},
   "outputs": [],
   "source": []
  }
 ],
 "metadata": {
  "kernelspec": {
   "display_name": "Python 3",
   "language": "python",
   "name": "python3"
  },
  "language_info": {
   "codemirror_mode": {
    "name": "ipython",
    "version": 3
   },
   "file_extension": ".py",
   "mimetype": "text/x-python",
   "name": "python",
   "nbconvert_exporter": "python",
   "pygments_lexer": "ipython3",
   "version": "3.7.3"
  }
 },
 "nbformat": 4,
 "nbformat_minor": 2
}
